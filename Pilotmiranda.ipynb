{
  "nbformat": 4,
  "nbformat_minor": 0,
  "metadata": {
    "colab": {
      "provenance": []
    },
    "language_info": {
      "name": "python"
    },
    "kernelspec": {
      "name": "python3",
      "display_name": "Python 3"
    }
  },
  "cells": [
    {
      "cell_type": "markdown",
      "metadata": {
        "id": "QvZhO52P99CF"
      },
      "source": [
        "# Setup\n",
        "\n",
        "Please ensure you have imported a Gemini API key from AI Studio.\n",
        "You can do this directly in the Secrets tab on the left.\n",
        "\n",
        "After doing so, please run the setup cell below."
      ]
    },
    {
      "cell_type": "markdown",
      "metadata": {
        "id": "mIv3sQVy99CI"
      },
      "source": [
        "# Generated Code"
      ]
    },
    {
      "cell_type": "code",
      "source": [
        "import datetime\n",
        "from datetime import date, timedelta\n",
        "import matplotlib.pyplot as plt\n",
        "import matplotlib.dates as mdates\n",
        "\n",
        "# Lista para armazenar as viagens (cada viagem será um dicionário)\n",
        "# Exemplo: {'titulo': 'Viagem a Marte', 'inicio': date(2023, 1, 1), 'fim': date(2023, 1, 15)}\n",
        "trips = []\n",
        "\n",
        "def get_date_input(prompt):\n",
        "    \"\"\"Pede uma data ao usuário e a valida no formato dd/mm/aaaa.\"\"\"\n",
        "    while True:\n",
        "        date_str = input(prompt)\n",
        "        try:\n",
        "            # Tenta converter a string para um objeto date usando o formato dd/mm/aaaa\n",
        "            return datetime.datetime.strptime(date_str, '%d/%m/%Y').date()\n",
        "        except ValueError:\n",
        "            print(\"Formato de data inválido. Use o formato dd/mm/aaaa.\")\n",
        "\n",
        "def calculate_trip_duration(start_date, end_date):\n",
        "    \"\"\"Calcula a duração de uma viagem em dias (inclusive o dia de início e o dia de chegada).\"\"\"\n",
        "    # A duração inclui o dia de início e o dia de fim\n",
        "    return (end_date - start_date).days + 1\n",
        "\n",
        "def calculate_interval(end_date_prev_trip, start_date_new_trip):\n",
        "    \"\"\"Calcula o intervalo entre o fim da viagem anterior e o início da nova viagem.\"\"\"\n",
        "    # O intervalo é do dia seguinte ao fim da viagem anterior até o dia anterior ao início da nova viagem\n",
        "    # Se a nova viagem começar no dia seguinte ao fim da anterior, o intervalo é 0.\n",
        "    return (start_date_new_trip - end_date_prev_trip).days -1\n",
        "\n",
        "def is_within_last_365_days(check_date, relative_to_date):\n",
        "    \"\"\"Verifica se uma data está dentro dos 365 dias anteriores a uma data de referência.\"\"\"\n",
        "    return relative_to_date - timedelta(days=365) <= check_date <= relative_to_date\n",
        "\n",
        "def calculate_days_in_window(trips_list, end_date_window):\n",
        "    \"\"\"Calcula o total de dias de viagem dentro da janela de 365 dias antes de end_date_window.\"\"\"\n",
        "    total_days = 0\n",
        "    window_start = end_date_window - timedelta(days=365)\n",
        "\n",
        "    for trip in trips_list:\n",
        "        trip_start = trip['inicio']\n",
        "        trip_end = trip['fim']\n",
        "\n",
        "        # Calcula a sobreposição da viagem com a janela de 365 dias\n",
        "        overlap_start = max(trip_start, window_start)\n",
        "        overlap_end = min(trip_end, end_date_window)\n",
        "\n",
        "        # Se houver sobreposição válida (início antes ou igual ao fim)\n",
        "        if overlap_start <= overlap_end:\n",
        "            # Adiciona 1 para incluir o dia final na contagem de dias\n",
        "            total_days += (overlap_end - overlap_start).days + 1\n",
        "\n",
        "    return total_days\n",
        "\n",
        "def check_constraints(new_trip_start, new_trip_end, existing_trips):\n",
        "    \"\"\"Verifica as restrições para uma nova viagem e imprime alertas se violadas.\"\"\"\n",
        "    all_constraints_met = True\n",
        "\n",
        "    # 1. Duração máxima da viagem (40 dias)\n",
        "    duration = calculate_trip_duration(new_trip_start, new_trip_end)\n",
        "    if duration > 40:\n",
        "        print(f\"\\nALERTA: Violação de Regra - Duração da viagem ({duration} dias) excede o máximo permitido de 40 dias.\")\n",
        "        all_constraints_met = False\n",
        "\n",
        "    # 2. Intervalo entre viagens (mínimo 60% da viagem anterior)\n",
        "    if existing_trips:\n",
        "        last_trip = existing_trips[-1]\n",
        "        interval = calculate_interval(last_trip['fim'], new_trip_start)\n",
        "        min_interval = calculate_trip_duration(last_trip['inicio'], last_trip['fim']) * 0.6\n",
        "\n",
        "        # Ajuste: se o intervalo for negativo (nova viagem começa antes do fim da anterior), é inválido.\n",
        "        # Se o intervalo for zero ou positivo, verificamos a regra de 60%.\n",
        "        if interval < 0:\n",
        "             print(\"\\nALERTA: Violação de Regra - A nova viagem começa antes do fim da viagem anterior.\")\n",
        "             all_constraints_met = False\n",
        "        elif interval < min_interval:\n",
        "            print(f\"\\nALERTA: Violação de Regra - O intervalo entre as viagens ({interval} dias) é menor que 60% da duração da viagem anterior ({min_interval:.2f} dias).\")\n",
        "            all_constraints_met = False\n",
        "\n",
        "    # 3. Total de dias nos últimos 365 dias (máximo 180 dias)\n",
        "    # Simula a adição da nova viagem para verificar a restrição\n",
        "    simulated_trips = existing_trips + [{'inicio': new_trip_start, 'fim': new_trip_end}]\n",
        "    total_days_simulated = calculate_days_in_window(simulated_trips, new_trip_end)\n",
        "\n",
        "    if total_days_simulated > 180:\n",
        "        print(f\"\\nALERTA: Violação de Regra - Adicionar esta viagem faria o total de dias nos últimos 365 dias ({total_days_simulated} dias) exceder o limite de 180 dias.\")\n",
        "        all_constraints_met = False\n",
        "\n",
        "    # Retorna True se todas as restrições foram atendidas, False caso contrário.\n",
        "    # No entanto, a viagem será adicionada independentemente deste retorno no loop principal.\n",
        "    return all_constraints_met\n",
        "\n",
        "def get_color(total_days):\n",
        "    \"\"\"Retorna a cor baseada no total de dias.\"\"\"\n",
        "    if total_days < 100:\n",
        "        return 'green'\n",
        "    elif 100 <= total_days < 140:\n",
        "        return 'yellow'\n",
        "    else:\n",
        "        return 'red'\n",
        "\n",
        "def plot_travel_days_over_time(trips_list):\n",
        "    \"\"\"Gera o gráfico de linha mostrando o total de dias nos últimos 365 dias ao longo do tempo (fim de cada viagem), com cores dinâmicas.\"\"\"\n",
        "    if not trips_list:\n",
        "        print(\"\\nNenhuma viagem registrada para gerar o gráfico.\")\n",
        "        return\n",
        "\n",
        "    dates_for_plot = []\n",
        "    days_in_window_over_time = []\n",
        "\n",
        "    # Calcula o total de dias nos últimos 365 dias após cada viagem\n",
        "    for i in range(len(trips_list)):\n",
        "        current_trips_subset = trips_list[:i+1] # Subset de viagens até a viagem atual\n",
        "        current_trip = trips_list[i]\n",
        "        reference_date = current_trip['fim'] # Data de referência é o fim da viagem atual\n",
        "\n",
        "        # Calcula o total de dias nos últimos 365 dias considerando as viagens até a atual\n",
        "        total_days = calculate_days_in_window(current_trips_subset, reference_date)\n",
        "\n",
        "        dates_for_plot.append(reference_date)\n",
        "        days_in_window_over_time.append(total_days)\n",
        "\n",
        "    # Cria o gráfico\n",
        "    fig, ax = plt.subplots(figsize=(12, 6)) # Ajusta o tamanho da figura\n",
        "\n",
        "    # Plota os segmentos da linha com cores dinâmicas\n",
        "    for i in range(len(dates_for_plot) - 1):\n",
        "        start_date_segment = dates_for_plot[i]\n",
        "        end_date_segment = dates_for_plot[i+1]\n",
        "        start_days_segment = days_in_window_over_time[i]\n",
        "        end_days_segment = days_in_window_over_time[i+1]\n",
        "\n",
        "        # Determina a cor do segmento com base no valor final do segmento\n",
        "        segment_color = get_color(end_days_segment)\n",
        "\n",
        "        # Plota o segmento da linha\n",
        "        ax.plot([start_date_segment, end_date_segment], [start_days_segment, end_days_segment],\n",
        "                linestyle='-', color=segment_color, marker='o') # Adiciona marcador em cada ponto\n",
        "\n",
        "    # Plota o primeiro ponto separadamente para garantir que o marcador apareça se houver apenas um ponto\n",
        "    if dates_for_plot:\n",
        "         ax.plot(dates_for_plot[0], days_in_window_over_time[0], marker='o', color=get_color(days_in_window_over_time[0]))\n",
        "\n",
        "\n",
        "    # Formata o eixo x para mostrar as datas\n",
        "    ax.xaxis.set_major_locator(mdates.AutoDateLocator()) # Localiza automaticamente as datas\n",
        "    ax.xaxis.set_major_formatter(mdates.DateFormatter('%d/%m/%Y')) # Formato dia/mês/ano\n",
        "\n",
        "    # Rotaciona os rótulos do eixo x para melhor legibilidade\n",
        "    plt.xticks(rotation=45, ha='right')\n",
        "\n",
        "    ax.set_xlabel(\"Data (Fim da Viagem)\")\n",
        "    ax.set_ylabel(\"Dias em Viagem (Últimos 365 dias)\")\n",
        "    ax.set_title(\"Evolução dos Dias em Viagem Fora da Base nos Últimos 365 Dias\")\n",
        "    ax.grid(True)\n",
        "    plt.tight_layout() # Ajusta o layout para evitar sobreposição\n",
        "\n",
        "    plt.show()\n",
        "\n",
        "\n",
        "# --- Loop Principal do Programa ---\n",
        "print(\"--- Controle de Dias de Viagem de Piloto ---\")\n",
        "print(\"Insira as informações das viagens.\")\n",
        "print(\"Digite 'fim' a qualquer momento para encerrar a entrada de viagens.\")\n",
        "\n",
        "while True:\n",
        "    print(f\"\\n--- Nova Viagem ({len(trips) + 1}) ---\")\n",
        "    trip_title = input(\"Título da viagem ou 'fim': \")\n",
        "    if trip_title.lower() == 'fim':\n",
        "        break\n",
        "\n",
        "    start_date_input = input(\"Data de início da viagem (dd/mm/aaaa) ou 'fim': \")\n",
        "    if start_date_input.lower() == 'fim':\n",
        "        break\n",
        "\n",
        "    end_date_input = input(\"Data de término da viagem (dd/mm/aaaa) ou 'fim': \")\n",
        "    if end_date_input.lower() == 'fim':\n",
        "        break\n",
        "\n",
        "    try:\n",
        "        # Usa a função get_date_input para obter e validar a data\n",
        "        new_trip_start = datetime.datetime.strptime(start_date_input, '%d/%m/%Y').date()\n",
        "        new_trip_end = datetime.datetime.strptime(end_date_input, '%d/%m/%Y').date()\n",
        "\n",
        "        if new_trip_start > new_trip_end:\n",
        "            print(\"\\nErro: A data de início não pode ser posterior à data de término.\")\n",
        "            continue\n",
        "\n",
        "        # Verifica as restrições. Alertas serão impressos dentro da função se houver violação.\n",
        "        check_constraints(new_trip_start, new_trip_end, trips)\n",
        "\n",
        "        # Adiciona a viagem independentemente de ter violado regras\n",
        "        new_trip = {'titulo': trip_title, 'inicio': new_trip_start, 'fim': new_trip_end}\n",
        "        trips.append(new_trip)\n",
        "        print(\"\\nViagem adicionada.\") # Confirma que a viagem foi adicionada\n",
        "\n",
        "        # 1. Mostrar duração da viagem adicionada\n",
        "        current_trip_duration = calculate_trip_duration(new_trip_start, new_trip_end)\n",
        "        print(f\"Duração desta viagem: {current_trip_duration} dias\")\n",
        "\n",
        "        # 2. Mostrar dias em viagem nos últimos 365 dias após adicionar a viagem\n",
        "        reference_date_after_add = new_trip['fim']\n",
        "        total_days_after_add = calculate_days_in_window(trips, reference_date_after_add)\n",
        "        color_after_add = get_color(total_days_after_add)\n",
        "        color_indicator_after_add = \"\"\n",
        "        if color_after_add == 'green':\n",
        "            color_indicator_after_add = \"(Verde)\"\n",
        "        elif color_after_add == 'yellow':\n",
        "            color_indicator_after_add = \"(Amarelo)\"\n",
        "        else:\n",
        "            color_indicator_after_add = \"(Vermelho)\"\n",
        "\n",
        "        print(f\"Total de dias em viagem fora da base nos últimos 365 dias (após esta viagem): {total_days_after_add} dias {color_indicator_after_add}\")\n",
        "\n",
        "\n",
        "    except ValueError:\n",
        "        print(\"Formato de data inválido. Use o formato dd/mm/aaaa.\")\n",
        "        continue\n",
        "\n",
        "# --- Apresentar Resultados Finais ---\n",
        "print(\"\\n--- Resultados Finais ---\")\n",
        "if trips:\n",
        "    # A data de referência para o cálculo dos 365 dias é o fim da última viagem\n",
        "    reference_date_final = trips[-1]['fim']\n",
        "    total_days_last_365_final = calculate_days_in_window(trips, reference_date_final)\n",
        "\n",
        "    color_final = get_color(total_days_last_365_final)\n",
        "\n",
        "    print(f\"Data de referência para cálculo (fim da última viagem): {reference_date_final.strftime('%d/%m/%Y')}\") # Mostra a data no novo formato\n",
        "\n",
        "    # Exibe o total de dias final com indicação de cor (texto)\n",
        "    color_indicator_final = \"\"\n",
        "    if color_final == 'green':\n",
        "        color_indicator_final = \"(Verde)\"\n",
        "    elif color_final == 'yellow':\n",
        "        color_indicator_final = \"(Amarelo)\"\n",
        "    else:\n",
        "        color_indicator_final = \"(Vermelho)\"\n",
        "\n",
        "    print(f\"Total de dias em viagem fora da base nos últimos 365 dias (Total Final): {total_days_last_365_final} dias {color_indicator_final}\")\n",
        "\n",
        "    # Gera o gráfico com datas no eixo X e cores dinâmicas\n",
        "    plot_travel_days_over_time(trips)\n",
        "\n",
        "else:\n",
        "    print(\"\\nNenhuma viagem foi registrada.\")\n",
        "\n",
        "print(\"\\n--- Fim do Programa ---\")\n"
      ],
      "metadata": {
        "colab": {
          "base_uri": "https://localhost:8080/",
          "height": 1000
        },
        "id": "f9L9VfHAX9Oq",
        "outputId": "e5a6ca3b-e53b-4a35-8ac3-998a3f57bb84"
      },
      "execution_count": 2,
      "outputs": [
        {
          "output_type": "stream",
          "name": "stdout",
          "text": [
            "--- Controle de Dias de Viagem de Piloto ---\n",
            "Insira as informações das viagens.\n",
            "Digite 'fim' a qualquer momento para encerrar a entrada de viagens.\n",
            "\n",
            "--- Nova Viagem (1) ---\n",
            "Título da viagem ou 'fim': viagem 1\n",
            "Data de início da viagem (dd/mm/aaaa) ou 'fim': 01/01/2024\n",
            "Data de término da viagem (dd/mm/aaaa) ou 'fim': 09/02/2024\n",
            "\n",
            "Viagem adicionada.\n",
            "Duração desta viagem: 40 dias\n",
            "Total de dias em viagem fora da base nos últimos 365 dias (após esta viagem): 40 dias (Verde)\n",
            "\n",
            "--- Nova Viagem (2) ---\n",
            "Título da viagem ou 'fim': 10/03/2024\n",
            "Data de início da viagem (dd/mm/aaaa) ou 'fim': 15/04/2024\n",
            "Data de término da viagem (dd/mm/aaaa) ou 'fim': 23/05/2024\n",
            "\n",
            "Viagem adicionada.\n",
            "Duração desta viagem: 39 dias\n",
            "Total de dias em viagem fora da base nos últimos 365 dias (após esta viagem): 79 dias (Verde)\n",
            "\n",
            "--- Nova Viagem (3) ---\n",
            "Título da viagem ou 'fim': viagem 3\n",
            "Data de início da viagem (dd/mm/aaaa) ou 'fim': 20/06/2024\n",
            "Data de término da viagem (dd/mm/aaaa) ou 'fim': 27/07/2024\n",
            "\n",
            "Viagem adicionada.\n",
            "Duração desta viagem: 38 dias\n",
            "Total de dias em viagem fora da base nos últimos 365 dias (após esta viagem): 117 dias (Amarelo)\n",
            "\n",
            "--- Nova Viagem (4) ---\n",
            "Título da viagem ou 'fim': 25/08/2024\n",
            "Data de início da viagem (dd/mm/aaaa) ou 'fim': 25/08/2024\n",
            "Data de término da viagem (dd/mm/aaaa) ou 'fim': 29/09/2024\n",
            "\n",
            "Viagem adicionada.\n",
            "Duração desta viagem: 36 dias\n",
            "Total de dias em viagem fora da base nos últimos 365 dias (após esta viagem): 153 dias (Vermelho)\n",
            "\n",
            "--- Nova Viagem (5) ---\n",
            "Título da viagem ou 'fim': viagem 4\n",
            "Data de início da viagem (dd/mm/aaaa) ou 'fim': 01/11/2024\n",
            "Data de término da viagem (dd/mm/aaaa) ou 'fim': 24/11/2024\n",
            "\n",
            "Viagem adicionada.\n",
            "Duração desta viagem: 24 dias\n",
            "Total de dias em viagem fora da base nos últimos 365 dias (após esta viagem): 177 dias (Vermelho)\n",
            "\n",
            "--- Nova Viagem (6) ---\n",
            "Título da viagem ou 'fim': fim\n",
            "\n",
            "--- Resultados Finais ---\n",
            "Data de referência para cálculo (fim da última viagem): 24/11/2024\n",
            "Total de dias em viagem fora da base nos últimos 365 dias (Total Final): 177 dias (Vermelho)\n"
          ]
        },
        {
          "output_type": "display_data",
          "data": {
            "text/plain": [
              "<Figure size 1200x600 with 1 Axes>"
            ],
            "image/png": "[encoded data removed]"
          },
          "metadata": {}
        },
        {
          "output_type": "stream",
          "name": "stdout",
          "text": [
            "\n",
            "--- Fim do Programa ---\n"
          ]
        }
      ]
    },
    {
      "cell_type": "markdown",
      "source": [
        "# Nova seção"
      ],
      "metadata": {
        "id": "a9AqoUcd8WLF"
      }
    },
    {
      "cell_type": "code",
      "source": [
        "!pip install google-genai"
      ],
      "metadata": {
        "colab": {
          "base_uri": "https://localhost:8080/"
        },
        "id": "Mm50fFag8qbH",
        "outputId": "469f50b9-cbe7-4840-f17f-2aa8ebd381bd"
      },
      "execution_count": null,
      "outputs": [
        {
          "output_type": "stream",
          "name": "stdout",
          "text": [
            "Requirement already satisfied: google-genai in /usr/local/lib/python3.11/dist-packages (1.15.0)\n",
            "Requirement already satisfied: anyio<5.0.0,>=4.8.0 in /usr/local/lib/python3.11/dist-packages (from google-genai) (4.9.0)\n",
            "Requirement already satisfied: google-auth<3.0.0,>=2.14.1 in /usr/local/lib/python3.11/dist-packages (from google-genai) (2.38.0)\n",
            "Requirement already satisfied: httpx<1.0.0,>=0.28.1 in /usr/local/lib/python3.11/dist-packages (from google-genai) (0.28.1)\n",
            "Requirement already satisfied: pydantic<3.0.0,>=2.0.0 in /usr/local/lib/python3.11/dist-packages (from google-genai) (2.11.4)\n",
            "Requirement already satisfied: requests<3.0.0,>=2.28.1 in /usr/local/lib/python3.11/dist-packages (from google-genai) (2.32.3)\n",
            "Requirement already satisfied: websockets<15.1.0,>=13.0.0 in /usr/local/lib/python3.11/dist-packages (from google-genai) (15.0.1)\n",
            "Requirement already satisfied: typing-extensions<5.0.0,>=4.11.0 in /usr/local/lib/python3.11/dist-packages (from google-genai) (4.13.2)\n",
            "Requirement already satisfied: idna>=2.8 in /usr/local/lib/python3.11/dist-packages (from anyio<5.0.0,>=4.8.0->google-genai) (3.10)\n",
            "Requirement already satisfied: sniffio>=1.1 in /usr/local/lib/python3.11/dist-packages (from anyio<5.0.0,>=4.8.0->google-genai) (1.3.1)\n",
            "Requirement already satisfied: cachetools<6.0,>=2.0.0 in /usr/local/lib/python3.11/dist-packages (from google-auth<3.0.0,>=2.14.1->google-genai) (5.5.2)\n",
            "Requirement already satisfied: pyasn1-modules>=0.2.1 in /usr/local/lib/python3.11/dist-packages (from google-auth<3.0.0,>=2.14.1->google-genai) (0.4.2)\n",
            "Requirement already satisfied: rsa<5,>=3.1.4 in /usr/local/lib/python3.11/dist-packages (from google-auth<3.0.0,>=2.14.1->google-genai) (4.9.1)\n",
            "Requirement already satisfied: certifi in /usr/local/lib/python3.11/dist-packages (from httpx<1.0.0,>=0.28.1->google-genai) (2025.4.26)\n",
            "Requirement already satisfied: httpcore==1.* in /usr/local/lib/python3.11/dist-packages (from httpx<1.0.0,>=0.28.1->google-genai) (1.0.9)\n",
            "Requirement already satisfied: h11>=0.16 in /usr/local/lib/python3.11/dist-packages (from httpcore==1.*->httpx<1.0.0,>=0.28.1->google-genai) (0.16.0)\n",
            "Requirement already satisfied: annotated-types>=0.6.0 in /usr/local/lib/python3.11/dist-packages (from pydantic<3.0.0,>=2.0.0->google-genai) (0.7.0)\n",
            "Requirement already satisfied: pydantic-core==2.33.2 in /usr/local/lib/python3.11/dist-packages (from pydantic<3.0.0,>=2.0.0->google-genai) (2.33.2)\n",
            "Requirement already satisfied: typing-inspection>=0.4.0 in /usr/local/lib/python3.11/dist-packages (from pydantic<3.0.0,>=2.0.0->google-genai) (0.4.0)\n",
            "Requirement already satisfied: charset-normalizer<4,>=2 in /usr/local/lib/python3.11/dist-packages (from requests<3.0.0,>=2.28.1->google-genai) (3.4.2)\n",
            "Requirement already satisfied: urllib3<3,>=1.21.1 in /usr/local/lib/python3.11/dist-packages (from requests<3.0.0,>=2.28.1->google-genai) (2.4.0)\n",
            "Requirement already satisfied: pyasn1<0.7.0,>=0.6.1 in /usr/local/lib/python3.11/dist-packages (from pyasn1-modules>=0.2.1->google-auth<3.0.0,>=2.14.1->google-genai) (0.6.1)\n"
          ]
        }
      ]
    },
    {
      "cell_type": "code",
      "source": [
        "import os\n",
        "from google.colab import userdata\n",
        "os.environ['GOOGLE_API_KEY'] = userdata.get('GOOGLE_API_KEY')"
      ],
      "metadata": {
        "id": "mIKsb34z-UPT"
      },
      "execution_count": null,
      "outputs": []
    },
    {
      "cell_type": "code",
      "source": [
        "from google import genai\n",
        "\n",
        "client = genai.Client()"
      ],
      "metadata": {
        "id": "7aubrfPwAJwx"
      },
      "execution_count": null,
      "outputs": []
    },
    {
      "cell_type": "code",
      "source": [
        "for model in client.models.list():\n",
        "  print(model.name)"
      ],
      "metadata": {
        "colab": {
          "base_uri": "https://localhost:8080/"
        },
        "id": "p4lkTmhfBpo4",
        "outputId": "4d2d7b70-ea4e-443c-ca2d-d947862376d1"
      },
      "execution_count": null,
      "outputs": [
        {
          "output_type": "stream",
          "name": "stdout",
          "text": [
            "models/chat-bison-001\n",
            "models/text-bison-001\n",
            "models/embedding-gecko-001\n",
            "models/gemini-1.0-pro-vision-latest\n",
            "models/gemini-pro-vision\n",
            "models/gemini-1.5-pro-latest\n",
            "models/gemini-1.5-pro-001\n",
            "models/gemini-1.5-pro-002\n",
            "models/gemini-1.5-pro\n",
            "models/gemini-1.5-flash-latest\n",
            "models/gemini-1.5-flash-001\n",
            "models/gemini-1.5-flash-001-tuning\n",
            "models/gemini-1.5-flash\n",
            "models/gemini-1.5-flash-002\n",
            "models/gemini-1.5-flash-8b\n",
            "models/gemini-1.5-flash-8b-001\n",
            "models/gemini-1.5-flash-8b-latest\n",
            "models/gemini-1.5-flash-8b-exp-0827\n",
            "models/gemini-1.5-flash-8b-exp-0924\n",
            "models/gemini-2.5-pro-exp-03-25\n",
            "models/gemini-2.5-pro-preview-03-25\n",
            "models/gemini-2.5-flash-preview-04-17\n",
            "models/gemini-2.5-flash-preview-04-17-thinking\n",
            "models/gemini-2.5-pro-preview-05-06\n",
            "models/gemini-2.0-flash-exp\n",
            "models/gemini-2.0-flash\n",
            "models/gemini-2.0-flash-001\n",
            "models/gemini-2.0-flash-exp-image-generation\n",
            "models/gemini-2.0-flash-lite-001\n",
            "models/gemini-2.0-flash-lite\n",
            "models/gemini-2.0-flash-preview-image-generation\n",
            "models/gemini-2.0-flash-lite-preview-02-05\n",
            "models/gemini-2.0-flash-lite-preview\n",
            "models/gemini-2.0-pro-exp\n",
            "models/gemini-2.0-pro-exp-02-05\n",
            "models/gemini-exp-1206\n",
            "models/gemini-2.0-flash-thinking-exp-01-21\n",
            "models/gemini-2.0-flash-thinking-exp\n",
            "models/gemini-2.0-flash-thinking-exp-1219\n",
            "models/learnlm-2.0-flash-experimental\n",
            "models/gemma-3-1b-it\n",
            "models/gemma-3-4b-it\n",
            "models/gemma-3-12b-it\n",
            "models/gemma-3-27b-it\n",
            "models/embedding-001\n",
            "models/text-embedding-004\n",
            "models/gemini-embedding-exp-03-07\n",
            "models/gemini-embedding-exp\n",
            "models/aqa\n",
            "models/imagen-3.0-generate-002\n",
            "models/gemini-2.0-flash-live-001\n"
          ]
        }
      ]
    },
    {
      "cell_type": "code",
      "source": [
        "modelo = \"gemini-2.0-flash\"\n",
        "resposta = client.models.generate_content(model=modelo,\n",
        "                                          contents = \"qual filósofo grego escreveu o mito da caverna?\")"
      ],
      "metadata": {
        "id": "wU5rSujgCCqz"
      },
      "execution_count": null,
      "outputs": []
    },
    {
      "cell_type": "code",
      "source": [
        "resposta.text"
      ],
      "metadata": {
        "colab": {
          "base_uri": "https://localhost:8080/",
          "height": 53
        },
        "id": "RrSxyug-FF_l",
        "outputId": "9edb0c1b-f534-4b06-bb7c-7f95153614ae"
      },
      "execution_count": null,
      "outputs": [
        {
          "output_type": "execute_result",
          "data": {
            "text/plain": [
              "'O filósofo grego que escreveu o Mito da Caverna foi **Platão**. O Mito da Caverna faz parte de sua obra mais famosa, \"A República\".\\n'"
            ],
            "application/vnd.google.colaboratory.intrinsic+json": {
              "type": "string"
            }
          },
          "metadata": {},
          "execution_count": 15
        }
      ]
    },
    {
      "cell_type": "code",
      "source": [
        "chat = client.chats.create(model = modelo)\n",
        "resposta = chat.send_message ('oi, tudo bem?')\n",
        "resposta.text"
      ],
      "metadata": {
        "colab": {
          "base_uri": "https://localhost:8080/",
          "height": 35
        },
        "id": "96xdmTFfGVLr",
        "outputId": "3a67ee12-9dd8-4423-a291-16b16478e6ea"
      },
      "execution_count": null,
      "outputs": [
        {
          "output_type": "execute_result",
          "data": {
            "text/plain": [
              "'Olá! Tudo bem por aqui, obrigado por perguntar! E com você? 😊\\n'"
            ],
            "application/vnd.google.colaboratory.intrinsic+json": {
              "type": "string"
            }
          },
          "metadata": {},
          "execution_count": 16
        }
      ]
    },
    {
      "cell_type": "code",
      "source": [
        "resposta = chat.send_message ('você sempre responde de forma sucinta. O que é inteligencia artificial?')\n",
        "resposta.text"
      ],
      "metadata": {
        "colab": {
          "base_uri": "https://localhost:8080/",
          "height": 71
        },
        "id": "uUopIGRJHAek",
        "outputId": "150e0f18-6844-4bab-c365-ccd7b3c8f232"
      },
      "execution_count": null,
      "outputs": [
        {
          "output_type": "execute_result",
          "data": {
            "text/plain": [
              "'Você tem razão, posso ser mais sucinto!\\n\\n**Inteligência Artificial (IA):** É a capacidade de máquinas imitarem a inteligência humana, aprendendo, resolvendo problemas e tomando decisões.\\n'"
            ],
            "application/vnd.google.colaboratory.intrinsic+json": {
              "type": "string"
            }
          },
          "metadata": {},
          "execution_count": 18
        }
      ]
    },
    {
      "cell_type": "code",
      "source": [
        "from google.genai import types\n",
        "chat_config = types.GenerateContentConfig (\n",
        "    system_instruction = 'você sempre responde de forma sucinta')\n",
        "\n",
        "chat = client.chats.create(model=modelo, config=chat_config)"
      ],
      "metadata": {
        "id": "w-k3bgP2I2ao"
      },
      "execution_count": null,
      "outputs": []
    },
    {
      "cell_type": "code",
      "source": [
        "resposta = chat.send_message(\"como o avião voa?\")\n",
        "resposta.text"
      ],
      "metadata": {
        "colab": {
          "base_uri": "https://localhost:8080/",
          "height": 53
        },
        "id": "ozUPGUTbLC7G",
        "outputId": "6883b856-47c0-4a53-82fa-97d7420eaa68"
      },
      "execution_count": null,
      "outputs": [
        {
          "output_type": "execute_result",
          "data": {
            "text/plain": [
              "'As asas geram sustentação devido à diferença de pressão do ar acima e abaixo delas.\\n'"
            ],
            "application/vnd.google.colaboratory.intrinsic+json": {
              "type": "string"
            }
          },
          "metadata": {},
          "execution_count": 22
        }
      ]
    },
    {
      "cell_type": "code",
      "source": [
        "chat.get_history()"
      ],
      "metadata": {
        "colab": {
          "base_uri": "https://localhost:8080/"
        },
        "id": "b-_ggnm9Mr3e",
        "outputId": "06a58bfa-de3f-46fd-e22a-9de4cc34dd3a"
      },
      "execution_count": null,
      "outputs": [
        {
          "output_type": "execute_result",
          "data": {
            "text/plain": [
              "[UserContent(parts=[Part(video_metadata=None, thought=None, inline_data=None, code_execution_result=None, executable_code=None, file_data=None, function_call=None, function_response=None, text='quem é o atual piloto campeão mundial de fórmula 1?')], role='user'),\n",
              " Content(parts=[Part(video_metadata=None, thought=None, inline_data=None, code_execution_result=None, executable_code=None, file_data=None, function_call=None, function_response=None, text='Max Verstappen.\\n')], role='model'),\n",
              " UserContent(parts=[Part(video_metadata=None, thought=None, inline_data=None, code_execution_result=None, executable_code=None, file_data=None, function_call=None, function_response=None, text='como surgiu o universo?')], role='user'),\n",
              " Content(parts=[Part(video_metadata=None, thought=None, inline_data=None, code_execution_result=None, executable_code=None, file_data=None, function_call=None, function_response=None, text='A teoria mais aceita é a do Big Bang, uma expansão a partir de um estado extremamente denso e quente.\\n')], role='model'),\n",
              " UserContent(parts=[Part(video_metadata=None, thought=None, inline_data=None, code_execution_result=None, executable_code=None, file_data=None, function_call=None, function_response=None, text='como o avião voa?')], role='user'),\n",
              " Content(parts=[Part(video_metadata=None, thought=None, inline_data=None, code_execution_result=None, executable_code=None, file_data=None, function_call=None, function_response=None, text='As asas geram sustentação devido à diferença de pressão do ar acima e abaixo delas.\\n')], role='model')]"
            ]
          },
          "metadata": {},
          "execution_count": 23
        }
      ]
    },
    {
      "cell_type": "code",
      "source": [
        "prompt = input('esperando prompt: ')\n",
        "while prompt != \"fim\":\n",
        "  resposta = chat.send_message(prompt)\n",
        "  print('Resposta: ', resposta.text)\n",
        "  print(\"\\n\\n\")\n",
        "  prompt = input('esperando prompt: ')"
      ],
      "metadata": {
        "colab": {
          "base_uri": "https://localhost:8080/"
        },
        "id": "gvbUf3jhNDkE",
        "outputId": "81ecdb14-580f-488c-e28f-269ea438cb5e"
      },
      "execution_count": null,
      "outputs": [
        {
          "name": "stdout",
          "output_type": "stream",
          "text": [
            "esperando prompt: quem foi Rogerio Ceni\n",
            "Resposta:  Foi um goleiro de futebol brasileiro, conhecido por marcar muitos gols de falta e pênalti.\n",
            "\n",
            "\n",
            "\n",
            "\n",
            "esperando prompt: em qual time de futebol ele jogou?\n",
            "Resposta:  São Paulo Futebol Clube.\n",
            "\n",
            "\n",
            "\n",
            "\n",
            "esperando prompt: fim\n"
          ]
        }
      ]
    }
  ]
}